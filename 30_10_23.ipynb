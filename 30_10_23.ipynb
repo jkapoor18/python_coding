{
 "cells": [
  {
   "cell_type": "code",
   "execution_count": 5,
   "id": "268b1433",
   "metadata": {},
   "outputs": [
    {
     "name": "stdout",
     "output_type": "stream",
     "text": [
      "The square root of 16 is: 4.0\n",
      "The sin value of 1.5707963267948966 is: 1.0\n"
     ]
    }
   ],
   "source": [
    "import math\n",
    "\n",
    "# Using the sqrt() function\n",
    "x = 16\n",
    "square_root = math.sqrt(x)\n",
    "print(f\"The square root of {x} is: {square_root}\")\n",
    "\n",
    "# Using the sin() function\n",
    "angle = math.pi / 2\n",
    "sin_value = math.sin(angle)\n",
    "print(f\"The sin value of {angle} is: {sin_value}\")\n"
   ]
  },
  {
   "cell_type": "code",
   "execution_count": 6,
   "id": "b5800dcd",
   "metadata": {},
   "outputs": [
    {
     "name": "stdout",
     "output_type": "stream",
     "text": [
      "The random number is: 5\n",
      "The selected color is: orange\n"
     ]
    }
   ],
   "source": [
    "import random\n",
    "\n",
    "# Using the randint() function\n",
    "random_number = random.randint(1, 100)\n",
    "print(f\"The random number is: {random_number}\")\n",
    "\n",
    "# Using the choice() function\n",
    "colors = ['red', 'green', 'blue', 'yellow', 'orange']\n",
    "selected_color = random.choice(colors)\n",
    "print(f\"The selected color is: {selected_color}\")\n"
   ]
  },
  {
   "cell_type": "code",
   "execution_count": 7,
   "id": "cd9e1b21",
   "metadata": {},
   "outputs": [
    {
     "name": "stdout",
     "output_type": "stream",
     "text": [
      "The current date and time is: 2023-10-30 07:41:13.940959\n",
      "Yesterday's date and time was: 2023-10-29 07:41:13.940959\n"
     ]
    }
   ],
   "source": [
    "import datetime\n",
    "\n",
    "# Using the datetime.now() function\n",
    "current_time = datetime.datetime.now()\n",
    "print(f\"The current date and time is: {current_time}\")\n",
    "\n",
    "# Using the timedelta() function\n",
    "one_day = datetime.timedelta(days=1)\n",
    "yesterday = current_time - one_day\n",
    "print(f\"Yesterday's date and time was: {yesterday}\")\n"
   ]
  },
  {
   "cell_type": "code",
   "execution_count": 10,
   "id": "ab8166e8",
   "metadata": {},
   "outputs": [
    {
     "data": {
      "text/plain": [
       "'C:\\\\Users\\\\jyoti'"
      ]
     },
     "execution_count": 10,
     "metadata": {},
     "output_type": "execute_result"
    }
   ],
   "source": [
    "import os\n",
    "\n",
    "# Using the getcwd() function\n",
    "os.getcwd()\n"
   ]
  },
  {
   "cell_type": "code",
   "execution_count": 11,
   "id": "94cf0e2f",
   "metadata": {},
   "outputs": [
    {
     "data": {
      "text/plain": [
       "[' Programming Assignment_19.ipynb',\n",
       " '.anaconda',\n",
       " '.cache',\n",
       " '.conda',\n",
       " '.condarc',\n",
       " '.continuum',\n",
       " '.git-for-windows-updater',\n",
       " '.gitconfig',\n",
       " '.idlerc',\n",
       " '.ipynb_checkpoints',\n",
       " '.ipython',\n",
       " '.jupyter',\n",
       " '.kaggle',\n",
       " '.keras',\n",
       " '.lesshst',\n",
       " '.matplotlib',\n",
       " '.vscode',\n",
       " '01_hellopy.ipynb',\n",
       " '02_python.ipynb',\n",
       " 'adidas-quarterly-sales.csv',\n",
       " 'adidas-quarterly_Timeseries.ipynb',\n",
       " 'adult.csv',\n",
       " 'Advance_Assign02.ipynb',\n",
       " 'Advance_Assign03.ipynb',\n",
       " 'Advance_Assign04.ipynb',\n",
       " 'Advance_Assign05.ipynb',\n",
       " 'Advance_Assign06.ipynb',\n",
       " 'Advance_Assign07.ipynb',\n",
       " 'Advance_Assign08.ipynb',\n",
       " 'Advance_Assign09.ipynb',\n",
       " 'Advance_Assign10.ipynb',\n",
       " 'Advance_Assign11.ipynb',\n",
       " 'Advance_Assign12.ipynb',\n",
       " 'Advance_Assign13.ipynb',\n",
       " 'Advance_Assign14.ipynb',\n",
       " 'Advance_Assign15.ipynb',\n",
       " 'Advance_Assign16.ipynb',\n",
       " 'Advance_Assign17.ipynb',\n",
       " 'Advance_Assign18.ipynb',\n",
       " 'Advance_Assign19.ipynb',\n",
       " 'Advance_Assign20.ipynb',\n",
       " 'Advance_Assign21.ipynb',\n",
       " 'Advance_Assign22.ipynb',\n",
       " 'Advance_Assign23.ipynb',\n",
       " 'Advance_Assign24.ipynb',\n",
       " 'Advance_Assign25.ipynb',\n",
       " 'anaconda3',\n",
       " 'AppData',\n",
       " 'Application Data',\n",
       " 'archive (1).zip',\n",
       " 'archive (10).zip',\n",
       " 'archive (6).zip',\n",
       " 'archive (7).zip',\n",
       " 'Assesment',\n",
       " 'Assignment_25.ipynb',\n",
       " 'assignment_3.ipynb',\n",
       " 'ASSIGNMENT_4.ipynb',\n",
       " 'assingment2.ipynb',\n",
       " 'assingment_01.ipynb',\n",
       " 'Assingment_2.ipynb',\n",
       " 'books.csv',\n",
       " 'books.db',\n",
       " 'Bootcamp 2.0 assigment no. 1.ipynb',\n",
       " 'bootcamp.assignment 04',\n",
       " 'bootcamp.assignment002',\n",
       " 'bootcamp.assignment05',\n",
       " 'bootcamp.assignment06',\n",
       " 'bootcamp.assignment08',\n",
       " 'bootcamp.assingment_11',\n",
       " 'bootcamp_assignment01.ipynb',\n",
       " 'bootcamp_assignment07.ipynb',\n",
       " 'bootcamp_assignment09.ipynb',\n",
       " 'bootcamp_assignment14.ipynb',\n",
       " 'bootcamp_assignment15.ipynb',\n",
       " 'Bootcamp_assignment16.ipynb',\n",
       " 'Bootcamp_assignment17.ipynb',\n",
       " 'bootcamp_assignment2',\n",
       " 'Bootcamp_Assignment20.ipynb',\n",
       " 'Bootcamp_Assignment21.ipynb',\n",
       " 'Bootcamp_Assignment22.ipynb',\n",
       " 'Bootcamp_Assignment23.ipynb',\n",
       " 'Bootcamp_Assignment24.ipynb',\n",
       " 'Bootcamp_Assignment25.ipynb',\n",
       " 'bootcamp_assignment_05.ipynb',\n",
       " 'bootcamp_assignment_12.ipynb',\n",
       " 'Bootcamp_Assignment_18.ipynb',\n",
       " 'Bootcamp_Assignment_19.ipynb',\n",
       " 'bootcamp_assingnment13.ipynb',\n",
       " 'census.csv',\n",
       " 'census.ipynb',\n",
       " 'clead_google_playstore_data',\n",
       " 'cleaned_playstore_apps.csv',\n",
       " 'cleaned_playstore_reviews.csv',\n",
       " 'code to plot graph in EDA.ipynb',\n",
       " 'Contacts',\n",
       " 'Cookies',\n",
       " 'CPI1_cleaned.csv',\n",
       " 'CPI_annual.csv',\n",
       " 'CPI_cleaned.csv',\n",
       " 'CPI_clean_transform.csv',\n",
       " 'CPI_dataset_cleaning.ipynb',\n",
       " 'CPT_cleaned.csv',\n",
       " 'data.csv',\n",
       " 'data_2genre.csv',\n",
       " 'Desktop',\n",
       " 'Documents',\n",
       " 'Downloads',\n",
       " 'DSA_mock.ipynb',\n",
       " 'DSA_mock2.ipynb',\n",
       " 'DSA_mock_2.ipynb',\n",
       " 'DS_PPT.ipynb',\n",
       " 'DS_PPT07.ipynb',\n",
       " 'DS_PPT_02.ipynb',\n",
       " 'earth_meteorites.csv',\n",
       " 'eda_class_02.ipynb',\n",
       " 'EDA_data_cleaning_assignment.ipynb',\n",
       " 'eds_class_1.ipynb',\n",
       " 'Electric_Vehicle_Population_Data.csv',\n",
       " 'example.txt',\n",
       " 'Exchange_data.csv',\n",
       " 'Exchange_data_T',\n",
       " 'Exchange_data_T.csv',\n",
       " 'Exports_Merchandise.csv',\n",
       " 'Exports_Merchandise_T.csv',\n",
       " 'Favorites',\n",
       " 'finalTrain.csv',\n",
       " 'Fraudulent.ipynb',\n",
       " 'friends.csv',\n",
       " 'googleplaystore.csv',\n",
       " 'greeting.py.ipynb',\n",
       " 'hello.txt',\n",
       " 'html)',\n",
       " 'ineuron_assignment',\n",
       " 'instagram_reach.csv',\n",
       " 'Insurance.ipynb',\n",
       " 'IntelGraphicsProfiles',\n",
       " 'Jkapoor',\n",
       " 'jyoti kapoor.ipynb',\n",
       " 'jyotikpoor3.ipynb',\n",
       " 'kaggle.txt',\n",
       " 'Links',\n",
       " 'List_com_map_filter.ipynb',\n",
       " 'Local Settings',\n",
       " 'MCD.csv',\n",
       " \"McDonald's Store Reviews.ipynb\",\n",
       " 'MCD_csv.csv',\n",
       " 'ML_assignment01.ipynb',\n",
       " 'ML_Assignment_02.ipynb',\n",
       " 'ML_Assignment_03.ipynb',\n",
       " 'ML_Assignment_04.ipynb',\n",
       " 'ML_Assignment_05.ipynb',\n",
       " 'ML_Assignment_06.ipynb',\n",
       " 'ML_Assignment_07.ipynb',\n",
       " 'ML_Assignment_08.ipynb',\n",
       " 'Mock_PPT.ipynb',\n",
       " 'mongodb.ipynb',\n",
       " 'Music',\n",
       " 'My Documents',\n",
       " 'NetHood',\n",
       " 'New folder',\n",
       " 'newdf.csv',\n",
       " 'News_Category_Dataset_v3.json',\n",
       " 'new_directory',\n",
       " 'NLP.ipynb',\n",
       " 'NTUSER.DAT',\n",
       " 'ntuser.dat.LOG1',\n",
       " 'ntuser.dat.LOG2',\n",
       " 'NTUSER.DAT{c6021356-69f3-11ee-aeb9-c2ba3839c28e}.TxR.0.regtrans-ms',\n",
       " 'NTUSER.DAT{c6021356-69f3-11ee-aeb9-c2ba3839c28e}.TxR.1.regtrans-ms',\n",
       " 'NTUSER.DAT{c6021356-69f3-11ee-aeb9-c2ba3839c28e}.TxR.2.regtrans-ms',\n",
       " 'NTUSER.DAT{c6021356-69f3-11ee-aeb9-c2ba3839c28e}.TxR.blf',\n",
       " 'NTUSER.DAT{c6021357-69f3-11ee-aeb9-c2ba3839c28e}.TM.blf',\n",
       " 'NTUSER.DAT{c6021357-69f3-11ee-aeb9-c2ba3839c28e}.TMContainer00000000000000000001.regtrans-ms',\n",
       " 'NTUSER.DAT{c6021357-69f3-11ee-aeb9-c2ba3839c28e}.TMContainer00000000000000000002.regtrans-ms',\n",
       " 'ntuser.ini',\n",
       " 'ObesityDataSet_raw_and_data_sinthetic.csv',\n",
       " 'OneDrive',\n",
       " 'online_shoppers_intention.csv',\n",
       " 'output.csv',\n",
       " 'Pictures',\n",
       " 'Playstore_Apps_analysis.ipynb',\n",
       " 'playstore_reviews.csv',\n",
       " 'PPT_Assignment.ipynb',\n",
       " 'PPT_Assignment03.ipynb',\n",
       " 'PPT_Assignment09.ipynb',\n",
       " 'PPT_Assignment10.ipynb',\n",
       " 'PPT_Assignment11.ipynb',\n",
       " 'PPT_Assignment12.ipynb',\n",
       " 'PPT_Assignment14.ipynb',\n",
       " 'PPT_Assignment15.ipynb',\n",
       " 'PPT_Assignment_04 .ipynb',\n",
       " 'PPT_Assignment_05.ipynb',\n",
       " 'PPT_Assignment_06.ipynb',\n",
       " 'PPT_Assignment_07.ipynb',\n",
       " 'PPT_Assignment_08.ipynb',\n",
       " 'PPT_Assignment_2.ipynb',\n",
       " 'PPT_Assign_20.ipynb',\n",
       " 'PPT_Assign_21.ipynb',\n",
       " 'PPT_Assign_23.ipynb',\n",
       " 'PrintHood',\n",
       " 'Problem solved by SQL Query.txt',\n",
       " 'Programming Assignment_16.ipynb',\n",
       " 'Programming Assignment_17.ipynb',\n",
       " 'Programming Assignment_18.ipynb',\n",
       " 'Programming Assignment_20.ipynb',\n",
       " 'Programming Assignment_21.ipynb',\n",
       " 'Programming Assignment_22.ipynb',\n",
       " 'Programming_Assignment1.ipynb',\n",
       " 'Programming_Assignment10.ipynb',\n",
       " 'Programming_Assignment11.ipynb',\n",
       " 'Programming_Assignment12.ipynb',\n",
       " 'Programming_Assignment14.ipynb',\n",
       " 'Programming_Assignment15.ipynb',\n",
       " 'Programming_Assignment2.ipynb',\n",
       " 'Programming_Assignment23.ipynb',\n",
       " 'programming_assignment25.ipynb',\n",
       " 'Programming_Assignment3.ipynb',\n",
       " 'Programming_Assignment4.ipynb',\n",
       " 'Programming_Assignment5.ipynb',\n",
       " 'Programming_Assignment6.ipynb',\n",
       " 'Programming_Assignment7.ipynb',\n",
       " 'Programming_Assignment8.ipynb',\n",
       " 'Programming_Assignment9.ipynb',\n",
       " 'Programming_Assignment_24.ipynb',\n",
       " 'pyhon.txt',\n",
       " 'python Assign Part 2.ipynb',\n",
       " 'python.txt',\n",
       " 'python2.txt',\n",
       " 'python_Assignment.ipynb',\n",
       " 'Python_Assignment01.ipynb',\n",
       " 'Python_code.ipynb',\n",
       " 'python_coding.ipynb',\n",
       " 'Python_interview_Q.ipynb',\n",
       " 'python_stats_2.ipynb',\n",
       " 'Recent',\n",
       " 'rideshare_kaggle.csv',\n",
       " 'Saved Games',\n",
       " 'scraper',\n",
       " 'scraper_flipkart.ipynb',\n",
       " 'Screenshot (160).png',\n",
       " 'Searches',\n",
       " 'SendTo',\n",
       " 'sensor.txt',\n",
       " 'sensor_fault_detection.ipynb',\n",
       " 'sensus_fault.csv',\n",
       " 'Sql_Final_submit.txt',\n",
       " 'Start Menu',\n",
       " 'Statistics solution.ipynb',\n",
       " 'Statistics-With-Python-TheCompleteGuide-main.zip',\n",
       " 'Stats_Internview_Q.ipynb',\n",
       " 'stats_titanic.ipynb',\n",
       " 'student.csv',\n",
       " 'student_pipeline',\n",
       " 'SVM kernals.ipynb',\n",
       " 'Telco-Customer-Churn.csv',\n",
       " 'Telco-Customer-Churn.ipynb',\n",
       " 'tel_churn.csv',\n",
       " 'Templates',\n",
       " 'test.txt',\n",
       " 'Text Emotions',\n",
       " 'Titanic',\n",
       " 'today.txt',\n",
       " 'train.csv',\n",
       " 'train.txt',\n",
       " 'Training_finaltrain.ipynb',\n",
       " 'train_u6lujuX_CVtuZ9i (1).csv',\n",
       " 'Untitled Folder',\n",
       " 'Untitled Folder 1',\n",
       " 'Untitled Folder 2',\n",
       " 'Untitled Folder 3',\n",
       " 'Untitled Folder 4',\n",
       " 'Untitled-checkpoint.ipynb',\n",
       " 'Untitled.ipynb',\n",
       " 'untitled.txt',\n",
       " 'Untitled1.ipynb',\n",
       " 'Untitled10.ipynb',\n",
       " 'Untitled11.ipynb',\n",
       " 'Untitled12.ipynb',\n",
       " 'Untitled13.ipynb',\n",
       " 'Untitled14.ipynb',\n",
       " 'Untitled15.ipynb',\n",
       " 'Untitled16.ipynb',\n",
       " 'Untitled17.ipynb',\n",
       " 'Untitled18.ipynb',\n",
       " 'Untitled19.ipynb',\n",
       " 'Untitled2.ipynb',\n",
       " 'Untitled20.ipynb',\n",
       " 'Untitled21.ipynb',\n",
       " 'untitled22-jupyter notebook.ipynb',\n",
       " 'Untitled22.ipynb',\n",
       " 'Untitled23.ipynb',\n",
       " 'Untitled24.ipynb',\n",
       " 'Untitled25.ipynb',\n",
       " 'Untitled26.ipynb',\n",
       " 'Untitled27.ipynb',\n",
       " 'Untitled28.ipynb',\n",
       " 'Untitled29.ipynb',\n",
       " 'Untitled3.ipynb',\n",
       " 'Untitled30.ipynb',\n",
       " 'Untitled31.ipynb',\n",
       " 'Untitled32.ipynb',\n",
       " 'Untitled33.ipynb',\n",
       " 'Untitled34.ipynb',\n",
       " 'Untitled35.ipynb',\n",
       " 'Untitled36.ipynb',\n",
       " 'Untitled37.ipynb',\n",
       " 'Untitled4 jkapoor.ipynb',\n",
       " 'Untitled4.ipynb',\n",
       " 'Untitled5.ipynb',\n",
       " 'Untitled6.ipynb',\n",
       " 'Untitled7.ipynb',\n",
       " 'Untitled8.ipynb',\n",
       " 'Untitled9.ipynb',\n",
       " 'val.txt',\n",
       " 'Videos',\n",
       " 'xgb_model.pkl',\n",
       " 'your_file.csv']"
      ]
     },
     "execution_count": 11,
     "metadata": {},
     "output_type": "execute_result"
    }
   ],
   "source": [
    "# Using the listdir() function\n",
    "os.listdir()"
   ]
  },
  {
   "cell_type": "code",
   "execution_count": 12,
   "id": "2411e5f1",
   "metadata": {},
   "outputs": [],
   "source": [
    "import os\n",
    "os.mkdir(\"data_science\") #make new directory\n"
   ]
  },
  {
   "cell_type": "code",
   "execution_count": 15,
   "id": "05f8dbd5",
   "metadata": {},
   "outputs": [],
   "source": [
    "# Change the current working directory\n",
    "new_directory_path = \"\\\\Users\\\\jyoti\\\\Desktop\"\n",
    "os.chdir(new_directory_path)"
   ]
  },
  {
   "cell_type": "code",
   "execution_count": 18,
   "id": "672d4b32",
   "metadata": {},
   "outputs": [
    {
     "data": {
      "text/plain": [
       "'C:\\\\Users\\\\jyoti\\\\Desktop'"
      ]
     },
     "execution_count": 18,
     "metadata": {},
     "output_type": "execute_result"
    }
   ],
   "source": [
    "os.getcwd()"
   ]
  },
  {
   "cell_type": "code",
   "execution_count": 20,
   "id": "8133573d",
   "metadata": {},
   "outputs": [],
   "source": [
    "# Opening a file in write mode\n",
    "with open('data_science', 'w') as file:\n",
    "    file.write('This is some sample text that will be written to the file.\\n')\n",
    "    file.write('Writing to files in Python is simple and powerful.\\n')\n"
   ]
  },
  {
   "cell_type": "code",
   "execution_count": 21,
   "id": "26ad57ec",
   "metadata": {},
   "outputs": [
    {
     "name": "stdout",
     "output_type": "stream",
     "text": [
      "This is some sample text that will be written to the file.\n",
      "Writing to files in Python is simple and powerful.\n"
     ]
    }
   ],
   "source": [
    "# Opening a file in read mode\n",
    "with open('data_science', 'r') as file:\n",
    "    for line in file:\n",
    "        print(line.strip())  # strip() is used to remove the newline character\n"
   ]
  },
  {
   "cell_type": "code",
   "execution_count": 22,
   "id": "753cb476",
   "metadata": {},
   "outputs": [],
   "source": [
    "# Opening a file in append mode\n",
    "with open('data_science', 'a') as file:\n",
    "    file.write('This text is appended to the file.\\n')\n"
   ]
  },
  {
   "cell_type": "code",
   "execution_count": 24,
   "id": "7e298540",
   "metadata": {},
   "outputs": [
    {
     "ename": "FileExistsError",
     "evalue": "[Errno 17] File exists: 'data_science'",
     "output_type": "error",
     "traceback": [
      "\u001b[1;31m---------------------------------------------------------------------------\u001b[0m",
      "\u001b[1;31mFileExistsError\u001b[0m                           Traceback (most recent call last)",
      "Input \u001b[1;32mIn [24]\u001b[0m, in \u001b[0;36m<cell line: 2>\u001b[1;34m()\u001b[0m\n\u001b[0;32m      1\u001b[0m \u001b[38;5;66;03m# Opening a file in creation mode\u001b[39;00m\n\u001b[1;32m----> 2\u001b[0m \u001b[38;5;28;01mwith\u001b[39;00m \u001b[38;5;28;43mopen\u001b[39;49m\u001b[43m(\u001b[49m\u001b[38;5;124;43m'\u001b[39;49m\u001b[38;5;124;43mdata_science\u001b[39;49m\u001b[38;5;124;43m'\u001b[39;49m\u001b[43m,\u001b[49m\u001b[43m \u001b[49m\u001b[38;5;124;43m'\u001b[39;49m\u001b[38;5;124;43mx\u001b[39;49m\u001b[38;5;124;43m'\u001b[39;49m\u001b[43m)\u001b[49m \u001b[38;5;28;01mas\u001b[39;00m file:\n\u001b[0;32m      3\u001b[0m     file\u001b[38;5;241m.\u001b[39mwrite(\u001b[38;5;124m'\u001b[39m\u001b[38;5;124mThis is a newly created file.\u001b[39m\u001b[38;5;130;01m\\n\u001b[39;00m\u001b[38;5;124m'\u001b[39m)\n",
      "\u001b[1;31mFileExistsError\u001b[0m: [Errno 17] File exists: 'data_science'"
     ]
    }
   ],
   "source": [
    "# Opening a file in creation mode\n",
    "with open('data_science', 'x') as file:\n",
    "    file.write('This is a newly created file.\\n') #if file already exit it gives error\n"
   ]
  },
  {
   "cell_type": "markdown",
   "id": "44ccb81d",
   "metadata": {},
   "source": [
    "### Class object"
   ]
  },
  {
   "cell_type": "code",
   "execution_count": 25,
   "id": "231197bb",
   "metadata": {},
   "outputs": [
    {
     "name": "stdout",
     "output_type": "stream",
     "text": [
      "Length of the rectangle is:  6\n",
      "width of the rectangle is:  8\n",
      "Area of the rectangle is:  28\n",
      "Perimeter of the rectangle is:  48\n"
     ]
    }
   ],
   "source": [
    "class rectangle:\n",
    "    def __init__(self,l,b):\n",
    "        self._length = l\n",
    "        self._width = b\n",
    "    def __Area(self):\n",
    "        return 2*(self._length + self._width)\n",
    "    def __Perimeter(self):\n",
    "        return self._length * self._width\n",
    "    def Display(self):\n",
    "        print(\"Length of the rectangle is: \", self._length)\n",
    "        print(\"width of the rectangle is: \", self._width)\n",
    "        print(\"Area of the rectangle is: \", self.__Area())\n",
    "        print(\"Perimeter of the rectangle is: \", self.__Perimeter())\n",
    "        \n",
    "obj = rectangle(6,8)\n",
    "obj.Display()"
   ]
  },
  {
   "cell_type": "code",
   "execution_count": 26,
   "id": "13c1bd5a",
   "metadata": {},
   "outputs": [
    {
     "name": "stdout",
     "output_type": "stream",
     "text": [
      "Side of a Square is:  8\n",
      "Area of a Square is:  64\n",
      "Perimeter of a Square is:  32\n"
     ]
    }
   ],
   "source": [
    "class Square:\n",
    "    def __init__(self, side):\n",
    "        self._side = side\n",
    "\n",
    "    def _Area(self):\n",
    "        return self._side * self._side\n",
    "\n",
    "    def _Perimeter(self):\n",
    "        return 4 * self._side\n",
    "\n",
    "    def Display(self):\n",
    "        print(\"Side of a Square is: \", self._side)\n",
    "        print(\"Area of a Square is: \", self._Area())\n",
    "        print(\"Perimeter of a Square is: \", self._Perimeter())\n",
    "\n",
    "obj = Square(8)\n",
    "obj.Display()\n"
   ]
  },
  {
   "cell_type": "code",
   "execution_count": null,
   "id": "779da261",
   "metadata": {},
   "outputs": [],
   "source": []
  }
 ],
 "metadata": {
  "kernelspec": {
   "display_name": "Python 3 (ipykernel)",
   "language": "python",
   "name": "python3"
  },
  "language_info": {
   "codemirror_mode": {
    "name": "ipython",
    "version": 3
   },
   "file_extension": ".py",
   "mimetype": "text/x-python",
   "name": "python",
   "nbconvert_exporter": "python",
   "pygments_lexer": "ipython3",
   "version": "3.9.12"
  }
 },
 "nbformat": 4,
 "nbformat_minor": 5
}
