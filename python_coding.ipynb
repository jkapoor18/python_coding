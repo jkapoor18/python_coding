{
 "cells": [
  {
   "cell_type": "markdown",
   "id": "3e3674db",
   "metadata": {},
   "source": [
    "**1. Create a function that takes two numbers as input and returns their sum.**"
   ]
  },
  {
   "cell_type": "code",
   "execution_count": 1,
   "id": "432197a5",
   "metadata": {},
   "outputs": [
    {
     "name": "stdout",
     "output_type": "stream",
     "text": [
      "8\n"
     ]
    }
   ],
   "source": [
    "def add_numbers(a, b):\n",
    "    return a + b  \n",
    "\n",
    "result = add_numbers(3, 5)\n",
    "print(result)  # Output: 8\n"
   ]
  },
  {
   "cell_type": "markdown",
   "id": "48409c70",
   "metadata": {},
   "source": [
    "**2. Write a function that takes a list of numbers as input and returns the sum of all the even numbers in the list.**"
   ]
  },
  {
   "cell_type": "code",
   "execution_count": 2,
   "id": "a6418e50",
   "metadata": {},
   "outputs": [
    {
     "name": "stdout",
     "output_type": "stream",
     "text": [
      "30\n"
     ]
    }
   ],
   "source": [
    "def sum_even_numbers(lst):\n",
    "    sum_even = 0\n",
    "    for num in lst:\n",
    "        if num % 2 == 0:\n",
    "            sum_even += num\n",
    "    return sum_even\n",
    "\n",
    "numbers = [1, 2, 3, 4, 5, 6, 7, 8, 9, 10]\n",
    "result = sum_even_numbers(numbers)\n",
    "print(result)  # Output: 30 (sum of 2 + 4 + 6 + 8 + 10)\n"
   ]
  },
  {
   "cell_type": "markdown",
   "id": "4afbe7ae",
   "metadata": {},
   "source": [
    "**3. Create a function that takes a string as input and returns a dictionary containing the count of each character in the string.**"
   ]
  },
  {
   "cell_type": "code",
   "execution_count": 5,
   "id": "0d5d7596",
   "metadata": {},
   "outputs": [
    {
     "name": "stdout",
     "output_type": "stream",
     "text": [
      "{'h': 1, 'e': 1, 'l': 2, 'o': 1}\n"
     ]
    }
   ],
   "source": [
    "def count_characters(input_string):\n",
    "    char_count = {}\n",
    "    for char in input_string:\n",
    "\n",
    "        char_count[char] = input_string.count(char)\n",
    "\n",
    "    return char_count\n",
    "\n",
    "input_str = \"hello\"\n",
    "result = count_characters(input_str)\n",
    "print(result)  # Output: {'h': 1, 'e': 1, 'l': 2, 'o': 1}\n"
   ]
  },
  {
   "cell_type": "code",
   "execution_count": 11,
   "id": "3d889691",
   "metadata": {},
   "outputs": [
    {
     "data": {
      "text/plain": [
       "[9, 8, 8, 7, 7, 6, 6, 5, 5, 5, 4, 4, 4, 3, 2, 1]"
      ]
     },
     "execution_count": 11,
     "metadata": {},
     "output_type": "execute_result"
    }
   ],
   "source": [
    "lst = [7,4,8,5,1,4,5,6,8,7,4,5,2,3,6,9]\n",
    "for i in range(len(lst)):\n",
    "    for j in range(len(lst)):\n",
    "        if lst[i] >lst[j]:\n",
    "            temp = lst[i]\n",
    "            lst[i] = lst[j]\n",
    "            lst[j] = temp\n",
    "          \n",
    "# print(list(set(lst)))\n",
    "lst"
   ]
  },
  {
   "cell_type": "markdown",
   "id": "3cf56504",
   "metadata": {},
   "source": [
    "## List Comprehension"
   ]
  },
  {
   "cell_type": "code",
   "execution_count": 9,
   "id": "4273552e",
   "metadata": {},
   "outputs": [
    {
     "name": "stdout",
     "output_type": "stream",
     "text": [
      "[1, 4, 9, 16, 25]\n"
     ]
    }
   ],
   "source": [
    "squares = [x**2 for x in range(1, 6)]\n",
    "print(squares)\n"
   ]
  },
  {
   "cell_type": "code",
   "execution_count": 10,
   "id": "3c5eb6fc",
   "metadata": {},
   "outputs": [
    {
     "name": "stdout",
     "output_type": "stream",
     "text": [
      "[2, 4, 6, 8, 10]\n"
     ]
    }
   ],
   "source": [
    "numbers = [1, 2, 3, 4, 5, 6, 7, 8, 9, 10]\n",
    "evens = [x for x in numbers if x % 2 == 0]\n",
    "print(evens)"
   ]
  },
  {
   "cell_type": "code",
   "execution_count": 11,
   "id": "968f318d",
   "metadata": {},
   "outputs": [
    {
     "name": "stdout",
     "output_type": "stream",
     "text": [
      "['APPLE', 'BANANA', 'CHERRY', 'DATE']\n"
     ]
    }
   ],
   "source": [
    "words = ['apple', 'banana', 'cherry', 'date']\n",
    "upper_words = [word.upper() for word in words]\n",
    "print(upper_words)"
   ]
  },
  {
   "cell_type": "markdown",
   "id": "f92221e4",
   "metadata": {},
   "source": [
    "**Intermediate**"
   ]
  },
  {
   "cell_type": "code",
   "execution_count": 12,
   "id": "4fe93853",
   "metadata": {},
   "outputs": [
    {
     "name": "stdout",
     "output_type": "stream",
     "text": [
      "[[0, 1, 2], [1, 2, 3], [2, 3, 4]]\n"
     ]
    }
   ],
   "source": [
    "matrix = [[x + y for y in range(3)] for x in range(3)]\n",
    "print(matrix)"
   ]
  },
  {
   "cell_type": "code",
   "execution_count": 13,
   "id": "19aec5e4",
   "metadata": {},
   "outputs": [
    {
     "name": "stdout",
     "output_type": "stream",
     "text": [
      "[(1, 'a'), (1, 'b'), (1, 'c'), (2, 'a'), (2, 'b'), (2, 'c'), (3, 'a'), (3, 'b'), (3, 'c')]\n"
     ]
    }
   ],
   "source": [
    "list1 = [1, 2, 3]\n",
    "list2 = ['a', 'b', 'c']\n",
    "combined_list = [(x, y) for x in list1 for y in list2]\n",
    "print(combined_list)"
   ]
  },
  {
   "cell_type": "markdown",
   "id": "1bea618b",
   "metadata": {},
   "source": [
    "**Advance**"
   ]
  },
  {
   "cell_type": "code",
   "execution_count": 14,
   "id": "abfb0bc6",
   "metadata": {},
   "outputs": [
    {
     "name": "stdout",
     "output_type": "stream",
     "text": [
      "[3, 4, 5]\n"
     ]
    }
   ],
   "source": [
    "list1 = [1, 2, 3, 4, 5]\n",
    "list2 = [3, 4, 5, 6, 7]\n",
    "common_elements = [x for x in list1 if x in list2]\n",
    "print(common_elements)"
   ]
  },
  {
   "cell_type": "code",
   "execution_count": 15,
   "id": "94f2b2ce",
   "metadata": {},
   "outputs": [
    {
     "name": "stdout",
     "output_type": "stream",
     "text": [
      "['odd', 2, 'odd', 4, 'odd', 6, 'odd', 8, 'odd', 10]\n"
     ]
    }
   ],
   "source": [
    "# List comprehension with if-else\n",
    "numbers = [1, 2, 3, 4, 5, 6, 7, 8, 9, 10]\n",
    "new_list = [x if x % 2 == 0 else \"odd\" for x in numbers]\n",
    "print(new_list)\n"
   ]
  },
  {
   "cell_type": "code",
   "execution_count": 16,
   "id": "6fd6b1a6",
   "metadata": {},
   "outputs": [
    {
     "name": "stdout",
     "output_type": "stream",
     "text": [
      "[[0, 1, 2], [3, 4, 5], [6, 7, 8]]\n"
     ]
    }
   ],
   "source": [
    "# Nested list comprehension\n",
    "matrix = [[i * 3 + j for j in range(3)] for i in range(3)]\n",
    "print(matrix)\n"
   ]
  },
  {
   "cell_type": "code",
   "execution_count": 2,
   "id": "e472e831",
   "metadata": {},
   "outputs": [
    {
     "name": "stdout",
     "output_type": "stream",
     "text": [
      "Lenght of the Triangle: 5\n",
      "breadth of the triangle: 6\n",
      "Area of a Reactangular is:  30\n",
      "perimeter of a Reactangular is:  22\n"
     ]
    }
   ],
   "source": [
    "l = int(input(\"Lenght of the Triangle: \" ))\n",
    "b = int(input(\"breadth of the triangle: \" ))\n",
    "\n",
    "Area = l*b\n",
    "perimeter = 2*(l+b)\n",
    "\n",
    "print(\"Area of a Reactangular is: \", Area)\n",
    "print(\"perimeter of a Reactangular is: \", perimeter)\n",
    "\n",
    "\n"
   ]
  },
  {
   "cell_type": "code",
   "execution_count": 5,
   "id": "9c858678",
   "metadata": {},
   "outputs": [
    {
     "name": "stdout",
     "output_type": "stream",
     "text": [
      "Length of the rectangle is:  6\n",
      "width of the rectangle is:  8\n",
      "Area of the rectangle is:  28\n",
      "Perimeter of the rectangle is:  48\n"
     ]
    }
   ],
   "source": [
    "class rectangle:\n",
    "    def __init__(self,l,b):\n",
    "        self._length = l\n",
    "        self._width = b\n",
    "    def __Area(self):\n",
    "        return 2*(self._length + self._width)\n",
    "    def __Perimeter(self):\n",
    "        return self._length * self._width\n",
    "    def Display(self):\n",
    "        print(\"Length of the rectangle is: \", self._length)\n",
    "        print(\"width of the rectangle is: \", self._width)\n",
    "        print(\"Area of the rectangle is: \", self.__Area())\n",
    "        print(\"Perimeter of the rectangle is: \", self.__Perimeter())\n",
    "        \n",
    "obj = rectangle(6,8)\n",
    "obj.Display()"
   ]
  },
  {
   "cell_type": "code",
   "execution_count": null,
   "id": "7150f01c",
   "metadata": {},
   "outputs": [],
   "source": []
  },
  {
   "cell_type": "code",
   "execution_count": null,
   "id": "9619fe70",
   "metadata": {},
   "outputs": [],
   "source": []
  },
  {
   "cell_type": "code",
   "execution_count": 7,
   "id": "74fa9a7c",
   "metadata": {},
   "outputs": [
    {
     "name": "stdout",
     "output_type": "stream",
     "text": [
      "Side of a Square is:  8\n",
      "Area of a Square is:  64\n",
      "Perimeter of a Square is:  32\n"
     ]
    }
   ],
   "source": [
    "class Square:\n",
    "    def __init__(self, side):\n",
    "        self._side = side\n",
    "\n",
    "    def _Area(self):\n",
    "        return self._side * self._side\n",
    "\n",
    "    def _Perimeter(self):\n",
    "        return 4 * self._side\n",
    "\n",
    "    def Display(self):\n",
    "        print(\"Side of a Square is: \", self._side)\n",
    "        print(\"Area of a Square is: \", self._Area())\n",
    "        print(\"Perimeter of a Square is: \", self._Perimeter())\n",
    "\n",
    "obj = Square(8)\n",
    "obj.Display()\n"
   ]
  },
  {
   "cell_type": "code",
   "execution_count": null,
   "id": "b3e6cea3",
   "metadata": {},
   "outputs": [],
   "source": []
  },
  {
   "cell_type": "code",
   "execution_count": null,
   "id": "7b437186",
   "metadata": {},
   "outputs": [],
   "source": [
    "def gcd(x, y):\n",
    "    while(y):\n",
    "        x, y = y, x % y    \n",
    "    return x\n",
    "\n",
    "def lcm(x, y):\n",
    "    return (x * y) // gcd(x, y)\n",
    "\n",
    "# Example usage:\n",
    "num1 = 12\n",
    "num2 = 30\n",
    "print(f\"The LCM of {num1} and {num2} is:\", lcm(num1, num2))\n"
   ]
  },
  {
   "cell_type": "code",
   "execution_count": null,
   "id": "6620263b",
   "metadata": {},
   "outputs": [],
   "source": []
  },
  {
   "cell_type": "code",
   "execution_count": null,
   "id": "639b771b",
   "metadata": {},
   "outputs": [],
   "source": []
  },
  {
   "cell_type": "code",
   "execution_count": null,
   "id": "19672b9e",
   "metadata": {},
   "outputs": [],
   "source": []
  },
  {
   "cell_type": "code",
   "execution_count": null,
   "id": "3821df2a",
   "metadata": {},
   "outputs": [],
   "source": []
  },
  {
   "cell_type": "code",
   "execution_count": null,
   "id": "e4d6f991",
   "metadata": {},
   "outputs": [],
   "source": []
  },
  {
   "cell_type": "code",
   "execution_count": null,
   "id": "ea65d7c8",
   "metadata": {},
   "outputs": [],
   "source": []
  }
 ],
 "metadata": {
  "kernelspec": {
   "display_name": "Python 3 (ipykernel)",
   "language": "python",
   "name": "python3"
  },
  "language_info": {
   "codemirror_mode": {
    "name": "ipython",
    "version": 3
   },
   "file_extension": ".py",
   "mimetype": "text/x-python",
   "name": "python",
   "nbconvert_exporter": "python",
   "pygments_lexer": "ipython3",
   "version": "3.9.12"
  }
 },
 "nbformat": 4,
 "nbformat_minor": 5
}
