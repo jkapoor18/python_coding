{
 "cells": [
  {
   "cell_type": "code",
   "execution_count": 6,
   "id": "4daaf98d",
   "metadata": {},
   "outputs": [
    {
     "name": "stdout",
     "output_type": "stream",
     "text": [
      "child constructor\n",
      "parent constructor\n"
     ]
    }
   ],
   "source": [
    "# 1. Single Inheritence using constructor\n",
    "\n",
    "class Parent:\n",
    "    def __init__(self,father_name , mother_name , address):\n",
    "        self.father_name = father_name\n",
    "        self.mother_name = mother_name\n",
    "        self.address = address\n",
    "        print('parent constructor')\n",
    "\n",
    "    def intro(self):\n",
    "        print(f\"my father name is :- {self.father_name}\")\n",
    "        print(f\"my mother name is :- {self.mother_name}\")\n",
    "        print(f\"and i am from {self.address}\")\n",
    "\n",
    "class child(Parent):\n",
    "    def __init__(self,my_name,my_profesion,my_company):\n",
    "        self.my_name = my_name\n",
    "        self.my_profesion = my_profesion\n",
    "        self.my_company = my_company\n",
    "        print('child constructor')\n",
    "        super().__init__(father_name=father_name,mother_name=mother_name,address=address)\n",
    "\n",
    "    def full_intro(self):\n",
    "        self.intro()       # calling parent class function inside the child class function.\n",
    "        print(f\"my name is {self.my_name}\")\n",
    "        print(f\"i am working as {self.my_profesion}\")\n",
    "        print(f\"and i am working in {self.my_company}\")\n",
    "\n",
    "\n",
    "    def access_instance_var(self):\n",
    "        \"\"\"now i am trying to get instance variable from parent class\"\"\"\n",
    "        my_intro = f\"\"\"my name is {self.my_name} , and i am from {self.address}\n",
    "        i am workin in {self.my_company} as a {self.my_profesion}\"\"\"\n",
    "        print(my_intro)\n",
    "\n",
    "\n",
    "\n",
    "\n",
    "# child_class_obj = child(my_name='Ranjit Singh',my_profesion='Data Scientist',my_company='google',father_name='somveer singh',mother_name='akhalesh devi',address='mathura uttar pradesh')\n",
    "child_class_obj = child(my_name='Ranjit Singh',my_profesion='Data Scientist',my_company='google',)\n",
    "\n",
    "# child_class_obj.intro()  # <<---- calling parent class method\n",
    "# print()\n",
    "# child_class_obj.full_intro()\n",
    "# print()\n",
    "# child_class_obj.access_instance_var()"
   ]
  },
  {
   "cell_type": "code",
   "execution_count": 6,
   "id": "518042ee",
   "metadata": {},
   "outputs": [
    {
     "name": "stdout",
     "output_type": "stream",
     "text": [
      "kimaya\n",
      "jyoti\n"
     ]
    }
   ],
   "source": [
    "class parent:\n",
    "    coll = 'jyoti'\n",
    "    \n",
    "    def show(self):\n",
    "        print(self.name)\n",
    "        \n",
    "class child(parent):\n",
    "    name = 'kimaya'\n",
    "    \n",
    "    def show_child_info(self):\n",
    "        print(self.name)\n",
    "        \n",
    "child_obj = child()\n",
    "print(child_obj.name)\n",
    "print(child_obj.coll)"
   ]
  },
  {
   "cell_type": "code",
   "execution_count": 8,
   "id": "c8298d05",
   "metadata": {},
   "outputs": [
    {
     "name": "stdout",
     "output_type": "stream",
     "text": [
      "jyoti\n",
      "kapoor\n"
     ]
    }
   ],
   "source": [
    "#single inheritance using constructor\n",
    "\n",
    "class parent:\n",
    "    def __init__(self,name):\n",
    "        self.name = name\n",
    "    \n",
    "    def show(self):\n",
    "        print(self.name)\n",
    "        \n",
    "class child(parent):\n",
    "    def __init__(self,surname,name):\n",
    "        self.surname = surname\n",
    "        super().__init__(name=name)\n",
    "        \n",
    "    \n",
    "    def show_child_info(self):\n",
    "        print(self.name)\n",
    "        \n",
    "child_obj = child('kapoor','jyoti')\n",
    "print(child_obj.name)\n",
    "print(child_obj.surname)\n"
   ]
  },
  {
   "cell_type": "code",
   "execution_count": 7,
   "id": "385e05cb",
   "metadata": {},
   "outputs": [
    {
     "name": "stdout",
     "output_type": "stream",
     "text": [
      "This is the parent method.\n",
      "This is the child method.\n"
     ]
    }
   ],
   "source": [
    "class Parent:\n",
    "    def parent_method(self):\n",
    "        print(\"This is the parent method.\")\n",
    "\n",
    "class Child(Parent):\n",
    "    def child_method(self):\n",
    "        print(\"This is the child method.\")\n",
    "\n",
    "# Creating an object of the Child class\n",
    "child_obj = Child()\n",
    "\n",
    "# Accessing methods from both classes\n",
    "child_obj.parent_method()  # Output: This is the parent method.\n",
    "child_obj.child_method()  # Output: This is the child method.\n"
   ]
  },
  {
   "cell_type": "markdown",
   "id": "06b6d107",
   "metadata": {},
   "source": [
    "## double inheritance"
   ]
  },
  {
   "cell_type": "code",
   "execution_count": 23,
   "id": "64d5e809",
   "metadata": {},
   "outputs": [
    {
     "name": "stdout",
     "output_type": "stream",
     "text": [
      "jyoti\n",
      "raj\n",
      "kapoor\n"
     ]
    }
   ],
   "source": [
    "class parent:\n",
    "    def __init__(self,name):\n",
    "        self.name = name\n",
    "    \n",
    "    def show(self):\n",
    "        print(self.name)\n",
    "        \n",
    "class parent2:\n",
    "    def __init__(self,mid_name):\n",
    "        self.mid_name = mid_name\n",
    "    \n",
    "    def show(self):\n",
    "        print(self.mid_name)\n",
    "        \n",
    "        \n",
    "class child(parent,parent2):\n",
    "    def __init__(self,name,mid_name,surname):\n",
    "        self.surname = surname\n",
    "        parent.__init__(self,name=name)\n",
    "        parent2.__init__(self,mid_name=mid_name)\n",
    "        \n",
    "    \n",
    "    def show_child_info(self):\n",
    "        print(self.name)\n",
    "        \n",
    "child_obj = child('jyoti','raj','kapoor')\n",
    "print(child_obj.name)\n",
    "print(child_obj.mid_name)\n",
    "print(child_obj.surname)"
   ]
  },
  {
   "cell_type": "code",
   "execution_count": 1,
   "id": "1f869c45",
   "metadata": {},
   "outputs": [
    {
     "name": "stdout",
     "output_type": "stream",
     "text": [
      "This is the method from Parent1.\n",
      "This is the method from Parent2.\n",
      "This is the child method.\n"
     ]
    }
   ],
   "source": [
    "class Parent1:\n",
    "    def method1(self):\n",
    "        print(\"This is the method from Parent1.\")\n",
    "\n",
    "class Parent2:\n",
    "    def method2(self):\n",
    "        print(\"This is the method from Parent2.\")\n",
    "\n",
    "class Child(Parent1, Parent2):\n",
    "    def child_method(self):\n",
    "        print(\"This is the child method.\")\n",
    "\n",
    "# Creating an object of the Child class\n",
    "child_obj = Child()\n",
    "\n",
    "# Accessing methods from both parent classes and the child class\n",
    "child_obj.method1()  # Output: This is the method from Parent1.\n",
    "child_obj.method2()  # Output: This is the method from Parent2.\n",
    "child_obj.child_method()  # Output: This is the child method.\n"
   ]
  },
  {
   "cell_type": "markdown",
   "id": "750b7c6e",
   "metadata": {},
   "source": [
    "## multiple inheritance"
   ]
  },
  {
   "cell_type": "code",
   "execution_count": 24,
   "id": "d0aa4917",
   "metadata": {},
   "outputs": [
    {
     "name": "stdout",
     "output_type": "stream",
     "text": [
      "jyoti\n",
      "kapoor\n",
      "dinesh kapoor\n"
     ]
    }
   ],
   "source": [
    "class GrandFather:\n",
    "    grandpa_name = 'dinesh kapoor'\n",
    "\n",
    "\n",
    "class parent(GrandFather):\n",
    "    def __init__(self,name):\n",
    "        self.name = name\n",
    "    \n",
    "    def show(self):\n",
    "        print(self.name)\n",
    "        \n",
    "class child(parent):\n",
    "    def __init__(self,surname,name):\n",
    "        self.surname = surname\n",
    "        super().__init__(name=name)\n",
    "        \n",
    "    \n",
    "    def show_child_info(self):\n",
    "        print(self.name)\n",
    "        \n",
    "child_obj = child('kapoor','jyoti')\n",
    "print(child_obj.name)\n",
    "print(child_obj.surname)\n",
    "print(child_obj.grandpa_name)"
   ]
  },
  {
   "cell_type": "code",
   "execution_count": 2,
   "id": "ca7ba7df",
   "metadata": {},
   "outputs": [
    {
     "name": "stdout",
     "output_type": "stream",
     "text": [
      "This is the method from Parent1.\n",
      "This is the method from Parent2.\n",
      "This is the method from Parent3.\n",
      "This is the child method.\n"
     ]
    }
   ],
   "source": [
    "class Parent1:\n",
    "    def method1(self):\n",
    "        print(\"This is the method from Parent1.\")\n",
    "\n",
    "class Parent2:\n",
    "    def method2(self):\n",
    "        print(\"This is the method from Parent2.\")\n",
    "\n",
    "class Parent3:\n",
    "    def method3(self):\n",
    "        print(\"This is the method from Parent3.\")\n",
    "\n",
    "class Child(Parent1, Parent2, Parent3):\n",
    "    def child_method(self):\n",
    "        print(\"This is the child method.\")\n",
    "\n",
    "# Creating an object of the Child class\n",
    "child_obj = Child()\n",
    "\n",
    "# Accessing methods from all parent classes and the child class\n",
    "child_obj.method1()  # Output: This is the method from Parent1.\n",
    "child_obj.method2()  # Output: This is the method from Parent2.\n",
    "child_obj.method3()  # Output: This is the method from Parent3.\n",
    "child_obj.child_method()  # Output: This is the child method.\n"
   ]
  },
  {
   "cell_type": "code",
   "execution_count": null,
   "id": "4fdc6caf",
   "metadata": {},
   "outputs": [],
   "source": []
  }
 ],
 "metadata": {
  "kernelspec": {
   "display_name": "Python 3 (ipykernel)",
   "language": "python",
   "name": "python3"
  },
  "language_info": {
   "codemirror_mode": {
    "name": "ipython",
    "version": 3
   },
   "file_extension": ".py",
   "mimetype": "text/x-python",
   "name": "python",
   "nbconvert_exporter": "python",
   "pygments_lexer": "ipython3",
   "version": "3.9.12"
  }
 },
 "nbformat": 4,
 "nbformat_minor": 5
}
