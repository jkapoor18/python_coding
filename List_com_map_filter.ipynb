{
 "cells": [
  {
   "cell_type": "markdown",
   "id": "e184d5e6",
   "metadata": {},
   "source": [
    "## List Comprehension"
   ]
  },
  {
   "cell_type": "code",
   "execution_count": 5,
   "id": "7ffaa9d5",
   "metadata": {},
   "outputs": [
    {
     "name": "stdout",
     "output_type": "stream",
     "text": [
      "[1, 2, 3, 4, 5, 6, 7, 8, 9, 10]\n"
     ]
    }
   ],
   "source": [
    "temp = []\n",
    "for i in range(1,11):\n",
    "    temp.append(i)\n",
    "print(temp)"
   ]
  },
  {
   "cell_type": "code",
   "execution_count": 6,
   "id": "8f2df275",
   "metadata": {},
   "outputs": [
    {
     "name": "stdout",
     "output_type": "stream",
     "text": [
      "[1, 2, 3, 4, 5, 6, 7, 8, 9, 10]\n"
     ]
    }
   ],
   "source": [
    "temp = [i for i in range(1,11)]\n",
    "print(temp)"
   ]
  },
  {
   "cell_type": "code",
   "execution_count": 7,
   "id": "cae1b253",
   "metadata": {},
   "outputs": [
    {
     "name": "stdout",
     "output_type": "stream",
     "text": [
      "[1, 4, 9, 16, 25, 36, 49, 64, 81, 100]\n"
     ]
    }
   ],
   "source": [
    "list1 = [i**2 for i in range (1,11)]\n",
    "print(list1)"
   ]
  },
  {
   "cell_type": "code",
   "execution_count": 9,
   "id": "3f1aea37",
   "metadata": {},
   "outputs": [
    {
     "name": "stdout",
     "output_type": "stream",
     "text": [
      "[4, 8, 6]\n"
     ]
    }
   ],
   "source": [
    "numbers = [1,4,5,7,8,6]\n",
    "even_list = []\n",
    "for i in numbers:\n",
    "    if i%2==0:\n",
    "        even_list.append(i)\n",
    "print(even_list)"
   ]
  },
  {
   "cell_type": "code",
   "execution_count": 10,
   "id": "502205fa",
   "metadata": {},
   "outputs": [
    {
     "name": "stdout",
     "output_type": "stream",
     "text": [
      "[4, 8, 6]\n"
     ]
    }
   ],
   "source": [
    "even_number = [x for x in numbers if x%2==0]\n",
    "print(even_number)"
   ]
  },
  {
   "cell_type": "code",
   "execution_count": 11,
   "id": "f4ac4ca4",
   "metadata": {},
   "outputs": [
    {
     "name": "stdout",
     "output_type": "stream",
     "text": [
      "['odd', 'odd', 'odd', 'even', 'even', 'odd', 'odd', 'even']\n"
     ]
    }
   ],
   "source": [
    "numbers = [1,3,5,6,8,9,3,4]\n",
    "new_list = ['even' if x % 2 ==0 else 'odd' for x in numbers]\n",
    "print(new_list)"
   ]
  },
  {
   "cell_type": "code",
   "execution_count": 12,
   "id": "cd61c92a",
   "metadata": {},
   "outputs": [
    {
     "name": "stdout",
     "output_type": "stream",
     "text": [
      "['APPLE', 'BANANA', 'MANGO']\n"
     ]
    }
   ],
   "source": [
    "words = ['apple','banana','mango']\n",
    "upper_words = [x.upper() for x in words]\n",
    "print(upper_words)"
   ]
  },
  {
   "cell_type": "code",
   "execution_count": 13,
   "id": "42e38cb6",
   "metadata": {},
   "outputs": [
    {
     "name": "stdout",
     "output_type": "stream",
     "text": [
      "[(1, 'a'), (1, 'b'), (1, 'c'), (2, 'a'), (2, 'b'), (2, 'c'), (3, 'a'), (3, 'b'), (3, 'c')]\n"
     ]
    }
   ],
   "source": [
    "list1 = [1,2,3]\n",
    "list2 = ['a','b','c']\n",
    "combined_list = [(x,y) for x in list1 for y in list2]\n",
    "print(combined_list)"
   ]
  },
  {
   "cell_type": "markdown",
   "id": "611edc4e",
   "metadata": {},
   "source": [
    "## Map , Filter Function"
   ]
  },
  {
   "cell_type": "code",
   "execution_count": 15,
   "id": "8ce57b10",
   "metadata": {},
   "outputs": [
    {
     "name": "stdout",
     "output_type": "stream",
     "text": [
      "[4, 9, 16, 25, 49, 64, 25]\n"
     ]
    }
   ],
   "source": [
    "numbers = [2,3,4,5,7,8,5]\n",
    "square_number = list(map(lambda x: x**2, numbers))\n",
    "print(square_number)"
   ]
  },
  {
   "cell_type": "code",
   "execution_count": 1,
   "id": "219b4ad1",
   "metadata": {},
   "outputs": [
    {
     "name": "stdout",
     "output_type": "stream",
     "text": [
      "[7, 9, 10, 11, 12, 13, 9]\n"
     ]
    }
   ],
   "source": [
    "#adding 5 to each element using map\n",
    "list1 = [2,4,5,6,7,8,4,]\n",
    "adding_num = list(map(lambda x: x + 5 , list1))\n",
    "print(adding_num)"
   ]
  },
  {
   "cell_type": "code",
   "execution_count": 2,
   "id": "c1472839",
   "metadata": {},
   "outputs": [
    {
     "name": "stdout",
     "output_type": "stream",
     "text": [
      "[6, 6, 6, 8]\n"
     ]
    }
   ],
   "source": [
    "#finding length of strings using map\n",
    "list2 = ['kapoor','dhawan','khanna','jhdvhdfg']\n",
    "list_len = list(map(lambda x : len(x), list2))\n",
    "print(list_len)"
   ]
  },
  {
   "cell_type": "code",
   "execution_count": 16,
   "id": "5de69c18",
   "metadata": {},
   "outputs": [
    {
     "name": "stdout",
     "output_type": "stream",
     "text": [
      "[6, 35, 32, 48]\n"
     ]
    }
   ],
   "source": [
    "#area of rectangle using map\n",
    "dimensions = [(2,3),(5,7),(8,4),(6,8)]\n",
    "areas = list(map(lambda x: x[0]*x[1], dimensions))\n",
    "print(areas)"
   ]
  },
  {
   "cell_type": "code",
   "execution_count": 4,
   "id": "a1af3375",
   "metadata": {},
   "outputs": [
    {
     "name": "stdout",
     "output_type": "stream",
     "text": [
      "[56, 87, 99, 77, 86]\n"
     ]
    }
   ],
   "source": [
    "#filter Examples\n",
    "\n",
    "list3 = [34,56,87,44,23,99,77,86]\n",
    "threshold = 50\n",
    "filtered_list = list(filter(lambda x:x>threshold, list3))\n",
    "print(filtered_list)"
   ]
  },
  {
   "cell_type": "code",
   "execution_count": 5,
   "id": "80604e0c",
   "metadata": {},
   "outputs": [
    {
     "name": "stdout",
     "output_type": "stream",
     "text": [
      "['pandas', 'string', 'upflairs']\n"
     ]
    }
   ],
   "source": [
    "list4 = ['data','pandas','string','fun','upflairs']\n",
    "filtered_list4 = list(filter(lambda x:len(x)>5,list4))\n",
    "print(filtered_list4)"
   ]
  },
  {
   "cell_type": "code",
   "execution_count": 10,
   "id": "a28f7d8c",
   "metadata": {},
   "outputs": [
    {
     "name": "stdout",
     "output_type": "stream",
     "text": [
      "[34, 56, 44, 86]\n"
     ]
    }
   ],
   "source": [
    "list5 = [34,56,87,44,23,99,77,86]\n",
    "filtered_list5 = list(filter(lambda x:x %2==0, list3))\n",
    "print(filtered_list5)"
   ]
  },
  {
   "cell_type": "code",
   "execution_count": null,
   "id": "f02b7d55",
   "metadata": {},
   "outputs": [],
   "source": []
  },
  {
   "cell_type": "code",
   "execution_count": null,
   "id": "4c38f342",
   "metadata": {},
   "outputs": [],
   "source": []
  }
 ],
 "metadata": {
  "kernelspec": {
   "display_name": "Python 3 (ipykernel)",
   "language": "python",
   "name": "python3"
  },
  "language_info": {
   "codemirror_mode": {
    "name": "ipython",
    "version": 3
   },
   "file_extension": ".py",
   "mimetype": "text/x-python",
   "name": "python",
   "nbconvert_exporter": "python",
   "pygments_lexer": "ipython3",
   "version": "3.9.12"
  }
 },
 "nbformat": 4,
 "nbformat_minor": 5
}
