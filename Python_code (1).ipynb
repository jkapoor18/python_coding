{
 "cells": [
  {
   "cell_type": "code",
   "execution_count": 1,
   "id": "cd73eee6",
   "metadata": {},
   "outputs": [
    {
     "name": "stdout",
     "output_type": "stream",
     "text": [
      "Error is occur\n"
     ]
    }
   ],
   "source": [
    "try:\n",
    "    dividend = 10\n",
    "    divisor = 0 \n",
    "    result = dividend / divisor\n",
    "    print(\"The result is:\", result)\n",
    "except ZeroDivisionError as e:\n",
    "    print(\"Error is occur\")"
   ]
  },
  {
   "cell_type": "markdown",
   "id": "0a000645",
   "metadata": {},
   "source": [
    "## list comprehensions"
   ]
  },
  {
   "cell_type": "code",
   "execution_count": 1,
   "id": "4511cf1c",
   "metadata": {},
   "outputs": [
    {
     "name": "stdout",
     "output_type": "stream",
     "text": [
      "[1, 2, 3, 4, 5, 6, 7, 8, 9, 10]\n"
     ]
    }
   ],
   "source": [
    "# 1. List comprehension example\n",
    "\n",
    "temp = []\n",
    "for i in range(1,11):\n",
    "    temp.append(i)\n",
    "print(temp)"
   ]
  },
  {
   "cell_type": "code",
   "execution_count": 2,
   "id": "45286453",
   "metadata": {},
   "outputs": [
    {
     "name": "stdout",
     "output_type": "stream",
     "text": [
      "[1, 2, 3, 4, 5, 6, 7, 8, 9, 10]\n"
     ]
    }
   ],
   "source": [
    "# using list comprehension\n",
    "temp = [i for i in range(1,11)]\n",
    "print(temp)"
   ]
  },
  {
   "cell_type": "code",
   "execution_count": 3,
   "id": "ea06b0e8",
   "metadata": {},
   "outputs": [
    {
     "name": "stdout",
     "output_type": "stream",
     "text": [
      "[1, 4, 9, 16, 25, 36, 49, 64, 81, 100]\n"
     ]
    }
   ],
   "source": [
    "# 2. Example on square\n",
    "\n",
    "temp = []\n",
    "for i in range(1,11):\n",
    "    temp.append(i**2)\n",
    "print (temp)"
   ]
  },
  {
   "cell_type": "code",
   "execution_count": 4,
   "id": "163e0e0f",
   "metadata": {},
   "outputs": [
    {
     "name": "stdout",
     "output_type": "stream",
     "text": [
      "[1, 4, 9, 16, 25, 36, 49, 64, 81, 100]\n"
     ]
    }
   ],
   "source": [
    "square = [i**2 for i in range(1,11)]\n",
    "print(square)"
   ]
  },
  {
   "cell_type": "code",
   "execution_count": 5,
   "id": "10726df9",
   "metadata": {},
   "outputs": [],
   "source": [
    "# 3. Example on even numbers\n",
    "numbers = [1, 2, 3, 4, 5, 6, 7, 8, 9, 10]\n",
    "even_list = list()\n",
    "for i in numbers:\n",
    "    if i%2==0:\n",
    "        even_list.append(i)"
   ]
  },
  {
   "cell_type": "code",
   "execution_count": 6,
   "id": "1cc34704",
   "metadata": {},
   "outputs": [],
   "source": [
    "# 3. Example on even numbers\n",
    "numbers = [1, 2, 3, 4, 5, 6, 7, 8, 9, 10]\n",
    "even_list = list()\n",
    "for i in numbers:\n",
    "    if i%2==0:\n",
    "        even_list.append(i)"
   ]
  },
  {
   "cell_type": "code",
   "execution_count": 8,
   "id": "7b5d5c4f",
   "metadata": {},
   "outputs": [
    {
     "name": "stdout",
     "output_type": "stream",
     "text": [
      "[2, 4, 6, 8, 10]\n"
     ]
    }
   ],
   "source": [
    "even_number = [x for x in numbers if x%2==0]\n",
    "print(even_number)"
   ]
  },
  {
   "cell_type": "code",
   "execution_count": 14,
   "id": "45fc214d",
   "metadata": {},
   "outputs": [
    {
     "name": "stdout",
     "output_type": "stream",
     "text": [
      "['odd', 'even', 'odd', 'even', 'odd', 'even', 'odd', 'even', 'odd', 'even']\n"
     ]
    }
   ],
   "source": [
    "# using List comprehension with if-else\n",
    "numbers = [1, 2, 3, 4, 5, 6, 7, 8, 9, 10]\n",
    "new_list = [\"even\" if x % 2 == 0 else \"odd\" for x in numbers]\n",
    "print(new_list)"
   ]
  },
  {
   "cell_type": "code",
   "execution_count": 9,
   "id": "161aff35",
   "metadata": {},
   "outputs": [
    {
     "name": "stdout",
     "output_type": "stream",
     "text": [
      "['APPLE', 'BANANA', 'CHERRY', 'DATE']\n"
     ]
    }
   ],
   "source": [
    "words = ['apple', 'banana', 'cherry', 'date']\n",
    "upper_words = [word.upper() for word in words]\n",
    "print(upper_words)"
   ]
  },
  {
   "cell_type": "code",
   "execution_count": 10,
   "id": "c80098f4",
   "metadata": {},
   "outputs": [
    {
     "name": "stdout",
     "output_type": "stream",
     "text": [
      "[(1, 'a'), (1, 'b'), (1, 'c'), (2, 'a'), (2, 'b'), (2, 'c'), (3, 'a'), (3, 'b'), (3, 'c')]\n"
     ]
    }
   ],
   "source": [
    "list1 = [1, 2, 3]\n",
    "list2 = ['a', 'b', 'c']\n",
    "combined_list = [(x, y) for x in list1 for y in list2]\n",
    "print(combined_list)"
   ]
  },
  {
   "cell_type": "code",
   "execution_count": 11,
   "id": "5602b879",
   "metadata": {},
   "outputs": [
    {
     "name": "stdout",
     "output_type": "stream",
     "text": [
      "[[0, 1, 2], [1, 2, 3], [2, 3, 4]]\n"
     ]
    }
   ],
   "source": [
    "matrix = [[x + y for y in range(3)] for x in range(3)]\n",
    "print(matrix)"
   ]
  },
  {
   "cell_type": "markdown",
   "id": "68aeed36",
   "metadata": {},
   "source": [
    "## os module"
   ]
  },
  {
   "cell_type": "code",
   "execution_count": 15,
   "id": "4f700cca",
   "metadata": {},
   "outputs": [
    {
     "name": "stdout",
     "output_type": "stream",
     "text": [
      "Current working directory: C:\\Users\\jyoti\n"
     ]
    }
   ],
   "source": [
    "import os\n",
    "\n",
    "# Get the current working directory\n",
    "current_directory = os.getcwd()\n",
    "print(\"Current working directory:\", current_directory)\n"
   ]
  },
  {
   "cell_type": "code",
   "execution_count": 17,
   "id": "82e653eb",
   "metadata": {},
   "outputs": [],
   "source": [
    "import os\n",
    "\n",
    "# Create a new directory\n",
    "os.mkdir(\"Jkapoor\")\n"
   ]
  },
  {
   "cell_type": "code",
   "execution_count": 24,
   "id": "024f79d9",
   "metadata": {},
   "outputs": [
    {
     "name": "stdout",
     "output_type": "stream",
     "text": [
      " Programming Assignment_19.ipynb\n",
      ".anaconda\n",
      ".cache\n",
      ".conda\n",
      ".condarc\n",
      ".continuum\n",
      ".git-for-windows-updater\n",
      ".gitconfig\n",
      ".idlerc\n",
      ".ipynb_checkpoints\n",
      ".ipython\n",
      ".jupyter\n",
      ".kaggle\n",
      ".keras\n",
      ".lesshst\n",
      ".matplotlib\n",
      ".vscode\n",
      "01_hellopy.ipynb\n",
      "02_python.ipynb\n",
      "adidas-quarterly-sales.csv\n",
      "adidas-quarterly_Timeseries.ipynb\n",
      "adult.csv\n",
      "Advance_Assign02.ipynb\n",
      "Advance_Assign03.ipynb\n",
      "Advance_Assign04.ipynb\n",
      "Advance_Assign05.ipynb\n",
      "Advance_Assign06.ipynb\n",
      "Advance_Assign07.ipynb\n",
      "Advance_Assign08.ipynb\n",
      "Advance_Assign09.ipynb\n",
      "Advance_Assign10.ipynb\n",
      "Advance_Assign11.ipynb\n",
      "Advance_Assign12.ipynb\n",
      "Advance_Assign13.ipynb\n",
      "Advance_Assign14.ipynb\n",
      "Advance_Assign15.ipynb\n",
      "Advance_Assign16.ipynb\n",
      "Advance_Assign17.ipynb\n",
      "Advance_Assign18.ipynb\n",
      "Advance_Assign19.ipynb\n",
      "Advance_Assign20.ipynb\n",
      "Advance_Assign21.ipynb\n",
      "Advance_Assign22.ipynb\n",
      "Advance_Assign23.ipynb\n",
      "Advance_Assign24.ipynb\n",
      "Advance_Assign25.ipynb\n",
      "anaconda3\n",
      "AppData\n",
      "Application Data\n",
      "archive (1).zip\n",
      "archive (10).zip\n",
      "archive (6).zip\n",
      "archive (7).zip\n",
      "Assesment\n",
      "Assignment_25.ipynb\n",
      "assignment_3.ipynb\n",
      "ASSIGNMENT_4.ipynb\n",
      "assingment2.ipynb\n",
      "assingment_01.ipynb\n",
      "Assingment_2.ipynb\n",
      "books.csv\n",
      "books.db\n",
      "Bootcamp 2.0 assigment no. 1.ipynb\n",
      "bootcamp.assignment 04\n",
      "bootcamp.assignment002\n",
      "bootcamp.assignment05\n",
      "bootcamp.assignment06\n",
      "bootcamp.assignment08\n",
      "bootcamp.assingment_11\n",
      "bootcamp_assignment01.ipynb\n",
      "bootcamp_assignment07.ipynb\n",
      "bootcamp_assignment09.ipynb\n",
      "bootcamp_assignment14.ipynb\n",
      "bootcamp_assignment15.ipynb\n",
      "Bootcamp_assignment16.ipynb\n",
      "Bootcamp_assignment17.ipynb\n",
      "bootcamp_assignment2\n",
      "Bootcamp_Assignment20.ipynb\n",
      "Bootcamp_Assignment21.ipynb\n",
      "Bootcamp_Assignment22.ipynb\n",
      "Bootcamp_Assignment23.ipynb\n",
      "Bootcamp_Assignment24.ipynb\n",
      "Bootcamp_Assignment25.ipynb\n",
      "bootcamp_assignment_05.ipynb\n",
      "bootcamp_assignment_12.ipynb\n",
      "Bootcamp_Assignment_18.ipynb\n",
      "Bootcamp_Assignment_19.ipynb\n",
      "bootcamp_assingnment13.ipynb\n",
      "census.csv\n",
      "census.ipynb\n",
      "clead_google_playstore_data\n",
      "cleaned_playstore_apps.csv\n",
      "cleaned_playstore_reviews.csv\n",
      "code to plot graph in EDA.ipynb\n",
      "Contacts\n",
      "Cookies\n",
      "CPI1_cleaned.csv\n",
      "CPI_annual.csv\n",
      "CPI_cleaned.csv\n",
      "CPI_clean_transform.csv\n",
      "CPI_dataset_cleaning.ipynb\n",
      "CPT_cleaned.csv\n",
      "data.csv\n",
      "data_2genre.csv\n",
      "Desktop\n",
      "Documents\n",
      "Downloads\n",
      "DSA_mock.ipynb\n",
      "DSA_mock2.ipynb\n",
      "DSA_mock_2.ipynb\n",
      "DS_PPT.ipynb\n",
      "DS_PPT07.ipynb\n",
      "DS_PPT_02.ipynb\n",
      "earth_meteorites.csv\n",
      "eda_class_02.ipynb\n",
      "EDA_data_cleaning_assignment.ipynb\n",
      "eds_class_1.ipynb\n",
      "Electric_Vehicle_Population_Data.csv\n",
      "Exchange_data.csv\n",
      "Exchange_data_T\n",
      "Exchange_data_T.csv\n",
      "Exports_Merchandise.csv\n",
      "Exports_Merchandise_T.csv\n",
      "Favorites\n",
      "finalTrain.csv\n",
      "Fraudulent.ipynb\n",
      "friends.csv\n",
      "googleplaystore.csv\n",
      "html)\n",
      "ineuron_assignment\n",
      "instagram_reach.csv\n",
      "Insurance.ipynb\n",
      "IntelGraphicsProfiles\n",
      "Jkapoor\n",
      "jyoti kapoor.ipynb\n",
      "jyotikpoor3.ipynb\n",
      "kaggle.txt\n",
      "Links\n",
      "Local Settings\n",
      "MCD.csv\n",
      "McDonald's Store Reviews.ipynb\n",
      "MCD_csv.csv\n",
      "ML_assignment01.ipynb\n",
      "ML_Assignment_02.ipynb\n",
      "ML_Assignment_03.ipynb\n",
      "ML_Assignment_04.ipynb\n",
      "ML_Assignment_05.ipynb\n",
      "ML_Assignment_06.ipynb\n",
      "ML_Assignment_07.ipynb\n",
      "ML_Assignment_08.ipynb\n",
      "Mock_PPT.ipynb\n",
      "mongodb.ipynb\n",
      "Music\n",
      "My Documents\n",
      "NetHood\n",
      "New folder\n",
      "newdf.csv\n",
      "News_Category_Dataset_v3.json\n",
      "new_directory\n",
      "NLP.ipynb\n",
      "NTUSER.DAT\n",
      "ntuser.dat.LOG1\n",
      "ntuser.dat.LOG2\n",
      "NTUSER.DAT{c6021356-69f3-11ee-aeb9-c2ba3839c28e}.TxR.0.regtrans-ms\n",
      "NTUSER.DAT{c6021356-69f3-11ee-aeb9-c2ba3839c28e}.TxR.1.regtrans-ms\n",
      "NTUSER.DAT{c6021356-69f3-11ee-aeb9-c2ba3839c28e}.TxR.2.regtrans-ms\n",
      "NTUSER.DAT{c6021356-69f3-11ee-aeb9-c2ba3839c28e}.TxR.blf\n",
      "NTUSER.DAT{c6021357-69f3-11ee-aeb9-c2ba3839c28e}.TM.blf\n",
      "NTUSER.DAT{c6021357-69f3-11ee-aeb9-c2ba3839c28e}.TMContainer00000000000000000001.regtrans-ms\n",
      "NTUSER.DAT{c6021357-69f3-11ee-aeb9-c2ba3839c28e}.TMContainer00000000000000000002.regtrans-ms\n",
      "ntuser.ini\n",
      "ObesityDataSet_raw_and_data_sinthetic.csv\n",
      "OneDrive\n",
      "online_shoppers_intention.csv\n",
      "output.csv\n",
      "Pictures\n",
      "Playstore_Apps_analysis.ipynb\n",
      "playstore_reviews.csv\n",
      "PPT_Assignment.ipynb\n",
      "PPT_Assignment03.ipynb\n",
      "PPT_Assignment09.ipynb\n",
      "PPT_Assignment10.ipynb\n",
      "PPT_Assignment11.ipynb\n",
      "PPT_Assignment12.ipynb\n",
      "PPT_Assignment14.ipynb\n",
      "PPT_Assignment15.ipynb\n",
      "PPT_Assignment_04 .ipynb\n",
      "PPT_Assignment_05.ipynb\n",
      "PPT_Assignment_06.ipynb\n",
      "PPT_Assignment_07.ipynb\n",
      "PPT_Assignment_08.ipynb\n",
      "PPT_Assignment_2.ipynb\n",
      "PPT_Assign_20.ipynb\n",
      "PPT_Assign_21.ipynb\n",
      "PPT_Assign_23.ipynb\n",
      "PrintHood\n",
      "Problem solved by SQL Query.txt\n",
      "Programming Assignment_16.ipynb\n",
      "Programming Assignment_17.ipynb\n",
      "Programming Assignment_18.ipynb\n",
      "Programming Assignment_20.ipynb\n",
      "Programming Assignment_21.ipynb\n",
      "Programming Assignment_22.ipynb\n",
      "Programming_Assignment1.ipynb\n",
      "Programming_Assignment10.ipynb\n",
      "Programming_Assignment11.ipynb\n",
      "Programming_Assignment12.ipynb\n",
      "Programming_Assignment14.ipynb\n",
      "Programming_Assignment15.ipynb\n",
      "Programming_Assignment2.ipynb\n",
      "Programming_Assignment23.ipynb\n",
      "programming_assignment25.ipynb\n",
      "Programming_Assignment3.ipynb\n",
      "Programming_Assignment4.ipynb\n",
      "Programming_Assignment5.ipynb\n",
      "Programming_Assignment6.ipynb\n",
      "Programming_Assignment7.ipynb\n",
      "Programming_Assignment8.ipynb\n",
      "Programming_Assignment9.ipynb\n",
      "Programming_Assignment_24.ipynb\n",
      "python Assign Part 2.ipynb\n",
      "python_Assignment.ipynb\n",
      "Python_Assignment01.ipynb\n",
      "python_coding.ipynb\n",
      "Python_interview_Q.ipynb\n",
      "python_stats_2.ipynb\n",
      "Recent\n",
      "rideshare_kaggle.csv\n",
      "Saved Games\n",
      "scraper\n",
      "scraper_flipkart.ipynb\n",
      "Screenshot (160).png\n",
      "Searches\n",
      "SendTo\n",
      "sensor.txt\n",
      "sensor_fault_detection.ipynb\n",
      "sensus_fault.csv\n",
      "Sql_Final_submit.txt\n",
      "Start Menu\n",
      "Statistics solution.ipynb\n",
      "Statistics-With-Python-TheCompleteGuide-main.zip\n",
      "Stats_Internview_Q.ipynb\n",
      "stats_titanic.ipynb\n",
      "student.csv\n",
      "student_pipeline\n",
      "SVM kernals.ipynb\n",
      "Telco-Customer-Churn.csv\n",
      "Telco-Customer-Churn.ipynb\n",
      "tel_churn.csv\n",
      "Templates\n",
      "test.txt\n",
      "Text Emotions\n",
      "Titanic\n",
      "today.txt\n",
      "train.csv\n",
      "train.txt\n",
      "Training_finaltrain.ipynb\n",
      "train_u6lujuX_CVtuZ9i (1).csv\n",
      "Untitled Folder\n",
      "Untitled Folder 1\n",
      "Untitled Folder 2\n",
      "Untitled Folder 3\n",
      "Untitled Folder 4\n",
      "Untitled-checkpoint.ipynb\n",
      "Untitled.ipynb\n",
      "untitled.txt\n",
      "Untitled1.ipynb\n",
      "Untitled10.ipynb\n",
      "Untitled11.ipynb\n",
      "Untitled12.ipynb\n",
      "Untitled13.ipynb\n",
      "Untitled14.ipynb\n",
      "Untitled15.ipynb\n",
      "Untitled16.ipynb\n",
      "Untitled17.ipynb\n",
      "Untitled18.ipynb\n",
      "Untitled19.ipynb\n",
      "Untitled2.ipynb\n",
      "Untitled20.ipynb\n",
      "Untitled21.ipynb\n",
      "untitled22-jupyter notebook.ipynb\n",
      "Untitled22.ipynb\n",
      "Untitled23.ipynb\n",
      "Untitled24.ipynb\n",
      "Untitled25.ipynb\n",
      "Untitled26.ipynb\n",
      "Untitled27.ipynb\n",
      "Untitled28.ipynb\n",
      "Untitled29.ipynb\n",
      "Untitled3.ipynb\n",
      "Untitled30.ipynb\n",
      "Untitled31.ipynb\n",
      "Untitled32.ipynb\n",
      "Untitled33.ipynb\n",
      "Untitled34.ipynb\n",
      "Untitled35.ipynb\n",
      "Untitled36.ipynb\n",
      "Untitled37.ipynb\n",
      "Untitled38.ipynb\n",
      "Untitled4 jkapoor.ipynb\n",
      "Untitled4.ipynb\n",
      "Untitled5.ipynb\n",
      "Untitled6.ipynb\n",
      "Untitled7.ipynb\n",
      "Untitled8.ipynb\n",
      "Untitled9.ipynb\n",
      "val.txt\n",
      "Videos\n",
      "xgb_model.pkl\n",
      "your_file.csv\n"
     ]
    }
   ],
   "source": [
    "import os\n",
    "\n",
    "# List all files and directories in the current directory\n",
    "files = os.listdir()\n",
    "for i in files:\n",
    "    print(i)\n"
   ]
  },
  {
   "cell_type": "code",
   "execution_count": 27,
   "id": "1c022c5d",
   "metadata": {},
   "outputs": [],
   "source": [
    "# Change the current working directory\n",
    "new_directory_path = \"\\\\Users\\\\jyoti\\\\Desktop\"\n",
    "os.chdir(new_directory_path)\n"
   ]
  },
  {
   "cell_type": "code",
   "execution_count": 32,
   "id": "49e47040",
   "metadata": {},
   "outputs": [
    {
     "data": {
      "text/plain": [
       "'C:\\\\Users\\\\jyoti\\\\Desktop'"
      ]
     },
     "execution_count": 32,
     "metadata": {},
     "output_type": "execute_result"
    }
   ],
   "source": [
    "os.getcwd()"
   ]
  },
  {
   "cell_type": "code",
   "execution_count": 35,
   "id": "dfb48233",
   "metadata": {},
   "outputs": [
    {
     "data": {
      "text/plain": [
       "['Adobe Photoshop CS.lnk',\n",
       " 'Bank-Churn-Classification-Model-main',\n",
       " 'Canva.lnk',\n",
       " 'Census file',\n",
       " 'Desktop - Shortcut.lnk',\n",
       " 'desktop.ini',\n",
       " 'Dream Girl 720p Filmyvid.mp4',\n",
       " 'Excel.lnk',\n",
       " 'EXCEL.xlsx',\n",
       " 'Fraudulent.ipynb',\n",
       " 'gemstone.csv',\n",
       " 'Google Play Store Analysis',\n",
       " 'Ineuron_Assignment',\n",
       " 'Insurance_prediction',\n",
       " 'kshama ki shadi',\n",
       " 'Manav Kapoor resume.doc',\n",
       " 'manav.pdf',\n",
       " 'notepad',\n",
       " 'power BI project',\n",
       " 'PowerPoint presentation.pptx',\n",
       " 'PowerPoint.lnk',\n",
       " 'PYTHON Presentation.pptx',\n",
       " 'Scania Truck',\n",
       " \"sentiments_in_McDonald's_US_Store_Reviews.ipynb\",\n",
       " 'SQL Query.sql',\n",
       " 'Visual Studio Code.lnk',\n",
       " 'Word.lnk',\n",
       " 'Zoom.lnk',\n",
       " '~$PYTHON Presentation.pptx']"
      ]
     },
     "execution_count": 35,
     "metadata": {},
     "output_type": "execute_result"
    }
   ],
   "source": [
    "# List all files and directories in the current director\n",
    "os.listdir()\n"
   ]
  },
  {
   "cell_type": "code",
   "execution_count": null,
   "id": "55860cf6",
   "metadata": {},
   "outputs": [],
   "source": [
    "\n",
    "os.rmdir()\n"
   ]
  },
  {
   "cell_type": "markdown",
   "id": "6c1efe9c",
   "metadata": {},
   "source": [
    "## File handling"
   ]
  },
  {
   "cell_type": "markdown",
   "id": "e28888df",
   "metadata": {},
   "source": [
    "**. Common modes are:**\n",
    "\n",
    "``'r': Read mode (default). Opens the file for reading.\n",
    "'w': Write mode. Opens the file for writing. If the file already exists, it will be overwritten. If it doesn't exist, a new      file will be created.\n",
    "'a': Append mode. Opens the file for appending. New data will be added at the end of the file.\n",
    "'x': Exclusive creation mode. Creates a new file, but raises an error if the file already exists.``"
   ]
  },
  {
   "cell_type": "code",
   "execution_count": 1,
   "id": "7cf7ec18",
   "metadata": {},
   "outputs": [
    {
     "ename": "FileNotFoundError",
     "evalue": "[Errno 2] No such file or directory: 'hello.txt'",
     "output_type": "error",
     "traceback": [
      "\u001b[1;31m---------------------------------------------------------------------------\u001b[0m",
      "\u001b[1;31mFileNotFoundError\u001b[0m                         Traceback (most recent call last)",
      "Input \u001b[1;32mIn [1]\u001b[0m, in \u001b[0;36m<cell line: 1>\u001b[1;34m()\u001b[0m\n\u001b[1;32m----> 1\u001b[0m file \u001b[38;5;241m=\u001b[39m\u001b[38;5;28;43mopen\u001b[39;49m\u001b[43m(\u001b[49m\u001b[38;5;124;43m'\u001b[39;49m\u001b[38;5;124;43mhello.txt\u001b[39;49m\u001b[38;5;124;43m'\u001b[39;49m\u001b[43m)\u001b[49m\n",
      "\u001b[1;31mFileNotFoundError\u001b[0m: [Errno 2] No such file or directory: 'hello.txt'"
     ]
    }
   ],
   "source": [
    "file =open('hello.txt')\n",
    "# we got this error, because by default  this file opening in \"r\"  READ MODE"
   ]
  },
  {
   "cell_type": "code",
   "execution_count": 6,
   "id": "9864b3f0",
   "metadata": {},
   "outputs": [
    {
     "name": "stdout",
     "output_type": "stream",
     "text": [
      "<_io.TextIOWrapper name='python.txt' mode='w' encoding='cp1252'>\n"
     ]
    }
   ],
   "source": [
    "import os\n",
    "file = open('python.txt','w')\n",
    "print(file)\n",
    "\n",
    "#print(f'file has been created :-{os.listdir()}') #write mode create a new file if file is not exit instead of giving error"
   ]
  },
  {
   "cell_type": "code",
   "execution_count": 8,
   "id": "7ea19eaa",
   "metadata": {},
   "outputs": [
    {
     "ename": "FileExistsError",
     "evalue": "[Errno 17] File exists: 'python.txt'",
     "output_type": "error",
     "traceback": [
      "\u001b[1;31m---------------------------------------------------------------------------\u001b[0m",
      "\u001b[1;31mFileExistsError\u001b[0m                           Traceback (most recent call last)",
      "Input \u001b[1;32mIn [8]\u001b[0m, in \u001b[0;36m<cell line: 1>\u001b[1;34m()\u001b[0m\n\u001b[1;32m----> 1\u001b[0m file \u001b[38;5;241m=\u001b[39m \u001b[38;5;28;43mopen\u001b[39;49m\u001b[43m(\u001b[49m\u001b[38;5;124;43m'\u001b[39;49m\u001b[38;5;124;43mpython.txt\u001b[39;49m\u001b[38;5;124;43m'\u001b[39;49m\u001b[43m,\u001b[49m\u001b[38;5;124;43m'\u001b[39;49m\u001b[38;5;124;43mx\u001b[39;49m\u001b[38;5;124;43m'\u001b[39;49m\u001b[43m)\u001b[49m\n",
      "\u001b[1;31mFileExistsError\u001b[0m: [Errno 17] File exists: 'python.txt'"
     ]
    }
   ],
   "source": [
    "file = open('python.txt','x')\n",
    "# 'X' mode is raising error because file already exists"
   ]
  },
  {
   "cell_type": "code",
   "execution_count": 13,
   "id": "2ea09c9b",
   "metadata": {},
   "outputs": [
    {
     "ename": "FileExistsError",
     "evalue": "[Errno 17] File exists: 'python2.txt'",
     "output_type": "error",
     "traceback": [
      "\u001b[1;31m---------------------------------------------------------------------------\u001b[0m",
      "\u001b[1;31mFileExistsError\u001b[0m                           Traceback (most recent call last)",
      "Input \u001b[1;32mIn [13]\u001b[0m, in \u001b[0;36m<cell line: 1>\u001b[1;34m()\u001b[0m\n\u001b[1;32m----> 1\u001b[0m file \u001b[38;5;241m=\u001b[39m \u001b[38;5;28;43mopen\u001b[39;49m\u001b[43m(\u001b[49m\u001b[38;5;124;43m'\u001b[39;49m\u001b[38;5;124;43mpython2.txt\u001b[39;49m\u001b[38;5;124;43m'\u001b[39;49m\u001b[43m,\u001b[49m\u001b[38;5;124;43m'\u001b[39;49m\u001b[38;5;124;43mx\u001b[39;49m\u001b[38;5;124;43m'\u001b[39;49m\u001b[43m)\u001b[49m\n\u001b[0;32m      2\u001b[0m \u001b[38;5;28mprint\u001b[39m(\u001b[38;5;124mf\u001b[39m\u001b[38;5;124m'\u001b[39m\u001b[38;5;124mfile created using x mode :- \u001b[39m\u001b[38;5;132;01m{\u001b[39;00mos\u001b[38;5;241m.\u001b[39mlistdir()\u001b[38;5;132;01m}\u001b[39;00m\u001b[38;5;124m'\u001b[39m)\n",
      "\u001b[1;31mFileExistsError\u001b[0m: [Errno 17] File exists: 'python2.txt'"
     ]
    }
   ],
   "source": [
    "file = open('python2.txt','x')\n",
    "print(f'file created using x mode :- {os.listdir()}')"
   ]
  },
  {
   "cell_type": "code",
   "execution_count": 14,
   "id": "2bda6804",
   "metadata": {},
   "outputs": [
    {
     "name": "stdout",
     "output_type": "stream",
     "text": [
      "successfully message has been written !\n"
     ]
    }
   ],
   "source": [
    "file = open('hello.txt','w')\n",
    "message = \"\"\"Hello Everyone, Myself Jyoti Kapoor\"\"\"\n",
    "file.write(message)\n",
    "file.close()\n",
    "print('successfully message has been written !')"
   ]
  },
  {
   "cell_type": "code",
   "execution_count": 15,
   "id": "839c20c1",
   "metadata": {},
   "outputs": [
    {
     "name": "stdout",
     "output_type": "stream",
     "text": [
      "Hello Everyone, Myself Jyoti Kapoor\n"
     ]
    }
   ],
   "source": [
    "file = open('hello.txt','r')\n",
    "message = file.read()\n",
    "file.close()\n",
    "print(message)\n",
    "#Now i am reading the message of the file."
   ]
  },
  {
   "cell_type": "code",
   "execution_count": 16,
   "id": "6aca85cf",
   "metadata": {},
   "outputs": [],
   "source": [
    "file = open(\"example.txt\", \"a\")  # Opens the file in append mode\n",
    "file.write(\"\\nThis is an additional line.\")\n",
    "file.close()\n"
   ]
  },
  {
   "cell_type": "code",
   "execution_count": 17,
   "id": "9a70166a",
   "metadata": {},
   "outputs": [],
   "source": [
    "import csv\n",
    "\n",
    "with open('data.csv', 'w', newline='') as csvfile:\n",
    "    writer = csv.writer(csvfile)\n",
    "    writer.writerow(['Name','Branch', 'Age'])\n",
    "    writer.writerow(['Alice','cse', 30])\n",
    "    writer.writerow(['Bob','it' ,35])"
   ]
  },
  {
   "cell_type": "code",
   "execution_count": 18,
   "id": "713c3dd9",
   "metadata": {},
   "outputs": [
    {
     "name": "stdout",
     "output_type": "stream",
     "text": [
      "Name,Branch,Age\n",
      "Alice,cse,30\n",
      "Bob,it,35\n",
      "\n"
     ]
    }
   ],
   "source": [
    "with open('data.csv','r') as file:\n",
    "    print(file.read())\n",
    "# Reading the data of .csv file"
   ]
  },
  {
   "cell_type": "code",
   "execution_count": 19,
   "id": "2a9e9cdd",
   "metadata": {},
   "outputs": [
    {
     "name": "stdout",
     "output_type": "stream",
     "text": [
      "Name, Branch, Age\n",
      "Alice, cse, 30\n",
      "Bob, it, 35\n"
     ]
    }
   ],
   "source": [
    "with open('data.csv', 'r') as file:\n",
    "    file_object = csv.reader(file)\n",
    "\n",
    "    for row in file_object:\n",
    "        print(', '.join(row))"
   ]
  },
  {
   "cell_type": "code",
   "execution_count": null,
   "id": "7afebbfb",
   "metadata": {},
   "outputs": [],
   "source": []
  }
 ],
 "metadata": {
  "kernelspec": {
   "display_name": "Python 3 (ipykernel)",
   "language": "python",
   "name": "python3"
  },
  "language_info": {
   "codemirror_mode": {
    "name": "ipython",
    "version": 3
   },
   "file_extension": ".py",
   "mimetype": "text/x-python",
   "name": "python",
   "nbconvert_exporter": "python",
   "pygments_lexer": "ipython3",
   "version": "3.9.12"
  }
 },
 "nbformat": 4,
 "nbformat_minor": 5
}
